{
 "cells": [
  {
   "cell_type": "code",
   "execution_count": 3,
   "id": "9227878e",
   "metadata": {},
   "outputs": [
    {
     "data": {
      "text/html": [
       "<div>\n",
       "<style scoped>\n",
       "    .dataframe tbody tr th:only-of-type {\n",
       "        vertical-align: middle;\n",
       "    }\n",
       "\n",
       "    .dataframe tbody tr th {\n",
       "        vertical-align: top;\n",
       "    }\n",
       "\n",
       "    .dataframe thead th {\n",
       "        text-align: right;\n",
       "    }\n",
       "</style>\n",
       "<table border=\"1\" class=\"dataframe\">\n",
       "  <thead>\n",
       "    <tr style=\"text-align: right;\">\n",
       "      <th></th>\n",
       "      <th>Пол</th>\n",
       "      <th>Возраст</th>\n",
       "      <th>Семейное положение</th>\n",
       "      <th>Повторный клиент</th>\n",
       "      <th>Сумма выдачи номинал</th>\n",
       "      <th>Срок</th>\n",
       "      <th>Образование</th>\n",
       "      <th>Тип бизнеса</th>\n",
       "      <th>Длительность самой долгой единовременной просрочки в течение цикла</th>\n",
       "      <th>Год</th>\n",
       "      <th>Возраст_полные года</th>\n",
       "    </tr>\n",
       "  </thead>\n",
       "  <tbody>\n",
       "    <tr>\n",
       "      <th>0</th>\n",
       "      <td>Муж</td>\n",
       "      <td>21.03.1997</td>\n",
       "      <td>Married</td>\n",
       "      <td>Старый клиент</td>\n",
       "      <td>5000</td>\n",
       "      <td>12</td>\n",
       "      <td>Высшее образование</td>\n",
       "      <td>4. Савдо / Торговля</td>\n",
       "      <td>0</td>\n",
       "      <td>1997</td>\n",
       "      <td>26</td>\n",
       "    </tr>\n",
       "    <tr>\n",
       "      <th>1</th>\n",
       "      <td>Муж</td>\n",
       "      <td>16.05.1986</td>\n",
       "      <td>Married</td>\n",
       "      <td>Старый клиент</td>\n",
       "      <td>4000</td>\n",
       "      <td>12</td>\n",
       "      <td>Высшее образование</td>\n",
       "      <td>3. Хизматрасони/Услуги</td>\n",
       "      <td>0</td>\n",
       "      <td>1986</td>\n",
       "      <td>37</td>\n",
       "    </tr>\n",
       "    <tr>\n",
       "      <th>2</th>\n",
       "      <td>Муж</td>\n",
       "      <td>08.12.1971</td>\n",
       "      <td>Married</td>\n",
       "      <td>Старый клиент</td>\n",
       "      <td>30000</td>\n",
       "      <td>12</td>\n",
       "      <td>Высшее образование</td>\n",
       "      <td>4. Савдо / Торговля</td>\n",
       "      <td>0</td>\n",
       "      <td>1971</td>\n",
       "      <td>52</td>\n",
       "    </tr>\n",
       "    <tr>\n",
       "      <th>3</th>\n",
       "      <td>Муж</td>\n",
       "      <td>02.04.1990</td>\n",
       "      <td>Married</td>\n",
       "      <td>Новый клиент</td>\n",
       "      <td>40000</td>\n",
       "      <td>24</td>\n",
       "      <td>Высшее образование</td>\n",
       "      <td>3. Хизматрасони/Услуги</td>\n",
       "      <td>0</td>\n",
       "      <td>1990</td>\n",
       "      <td>33</td>\n",
       "    </tr>\n",
       "    <tr>\n",
       "      <th>4</th>\n",
       "      <td>Муж</td>\n",
       "      <td>10.06.1988</td>\n",
       "      <td>Married</td>\n",
       "      <td>Старый клиент</td>\n",
       "      <td>40000</td>\n",
       "      <td>24</td>\n",
       "      <td>Высшее образование</td>\n",
       "      <td>3. Хизматрасони/Услуги</td>\n",
       "      <td>0</td>\n",
       "      <td>1988</td>\n",
       "      <td>35</td>\n",
       "    </tr>\n",
       "    <tr>\n",
       "      <th>...</th>\n",
       "      <td>...</td>\n",
       "      <td>...</td>\n",
       "      <td>...</td>\n",
       "      <td>...</td>\n",
       "      <td>...</td>\n",
       "      <td>...</td>\n",
       "      <td>...</td>\n",
       "      <td>...</td>\n",
       "      <td>...</td>\n",
       "      <td>...</td>\n",
       "      <td>...</td>\n",
       "    </tr>\n",
       "    <tr>\n",
       "      <th>2889</th>\n",
       "      <td>Муж</td>\n",
       "      <td>21.08.1996</td>\n",
       "      <td>Single</td>\n",
       "      <td>Старый клиент</td>\n",
       "      <td>10000</td>\n",
       "      <td>12</td>\n",
       "      <td>Сред.спец.образ-ние</td>\n",
       "      <td>1. Карзи истеъмоли/Потребительский кредит</td>\n",
       "      <td>358</td>\n",
       "      <td>1996</td>\n",
       "      <td>27</td>\n",
       "    </tr>\n",
       "    <tr>\n",
       "      <th>2890</th>\n",
       "      <td>Муж</td>\n",
       "      <td>11.07.1994</td>\n",
       "      <td>Married</td>\n",
       "      <td>Новый клиент</td>\n",
       "      <td>10000</td>\n",
       "      <td>12</td>\n",
       "      <td>Среднее образование</td>\n",
       "      <td>4. Савдо / Торговля</td>\n",
       "      <td>447</td>\n",
       "      <td>1994</td>\n",
       "      <td>29</td>\n",
       "    </tr>\n",
       "    <tr>\n",
       "      <th>2891</th>\n",
       "      <td>Муж</td>\n",
       "      <td>02.03.1998</td>\n",
       "      <td>Single</td>\n",
       "      <td>Новый клиент</td>\n",
       "      <td>10000</td>\n",
       "      <td>12</td>\n",
       "      <td>Среднее образование</td>\n",
       "      <td>1. Карзи истеъмоли/Потребительский кредит</td>\n",
       "      <td>554</td>\n",
       "      <td>1998</td>\n",
       "      <td>25</td>\n",
       "    </tr>\n",
       "    <tr>\n",
       "      <th>2892</th>\n",
       "      <td>Муж</td>\n",
       "      <td>04.12.1998</td>\n",
       "      <td>Single</td>\n",
       "      <td>Старый клиент</td>\n",
       "      <td>10000</td>\n",
       "      <td>18</td>\n",
       "      <td>Высшее образование</td>\n",
       "      <td>1. Карзи истеъмоли/Потребительский кредит</td>\n",
       "      <td>414</td>\n",
       "      <td>1998</td>\n",
       "      <td>25</td>\n",
       "    </tr>\n",
       "    <tr>\n",
       "      <th>2893</th>\n",
       "      <td>Муж</td>\n",
       "      <td>19.07.1983</td>\n",
       "      <td>Single</td>\n",
       "      <td>Новый клиент</td>\n",
       "      <td>10000</td>\n",
       "      <td>18</td>\n",
       "      <td>Высшее образование</td>\n",
       "      <td>1. Карзи истеъмоли/Потребительский кредит</td>\n",
       "      <td>0</td>\n",
       "      <td>1983</td>\n",
       "      <td>40</td>\n",
       "    </tr>\n",
       "  </tbody>\n",
       "</table>\n",
       "<p>2894 rows × 11 columns</p>\n",
       "</div>"
      ],
      "text/plain": [
       "      Пол     Возраст Семейное положение Повторный клиент  \\\n",
       "0     Муж  21.03.1997            Married    Старый клиент   \n",
       "1     Муж  16.05.1986            Married    Старый клиент   \n",
       "2     Муж  08.12.1971            Married    Старый клиент   \n",
       "3     Муж  02.04.1990            Married     Новый клиент   \n",
       "4     Муж  10.06.1988            Married    Старый клиент   \n",
       "...   ...         ...                ...              ...   \n",
       "2889  Муж  21.08.1996             Single    Старый клиент   \n",
       "2890  Муж  11.07.1994            Married     Новый клиент   \n",
       "2891  Муж  02.03.1998             Single     Новый клиент   \n",
       "2892  Муж  04.12.1998             Single    Старый клиент   \n",
       "2893  Муж  19.07.1983             Single     Новый клиент   \n",
       "\n",
       "      Сумма выдачи номинал  Срок          Образование  \\\n",
       "0                     5000    12   Высшее образование   \n",
       "1                     4000    12   Высшее образование   \n",
       "2                    30000    12   Высшее образование   \n",
       "3                    40000    24   Высшее образование   \n",
       "4                    40000    24   Высшее образование   \n",
       "...                    ...   ...                  ...   \n",
       "2889                 10000    12  Сред.спец.образ-ние   \n",
       "2890                 10000    12  Среднее образование   \n",
       "2891                 10000    12  Среднее образование   \n",
       "2892                 10000    18   Высшее образование   \n",
       "2893                 10000    18   Высшее образование   \n",
       "\n",
       "                                    Тип бизнеса  \\\n",
       "0                           4. Савдо / Торговля   \n",
       "1                        3. Хизматрасони/Услуги   \n",
       "2                           4. Савдо / Торговля   \n",
       "3                        3. Хизматрасони/Услуги   \n",
       "4                        3. Хизматрасони/Услуги   \n",
       "...                                         ...   \n",
       "2889  1. Карзи истеъмоли/Потребительский кредит   \n",
       "2890                        4. Савдо / Торговля   \n",
       "2891  1. Карзи истеъмоли/Потребительский кредит   \n",
       "2892  1. Карзи истеъмоли/Потребительский кредит   \n",
       "2893  1. Карзи истеъмоли/Потребительский кредит   \n",
       "\n",
       "      Длительность самой долгой единовременной просрочки в течение цикла  \\\n",
       "0                                                     0                    \n",
       "1                                                     0                    \n",
       "2                                                     0                    \n",
       "3                                                     0                    \n",
       "4                                                     0                    \n",
       "...                                                 ...                    \n",
       "2889                                                358                    \n",
       "2890                                                447                    \n",
       "2891                                                554                    \n",
       "2892                                                414                    \n",
       "2893                                                  0                    \n",
       "\n",
       "       Год  Возраст_полные года  \n",
       "0     1997                   26  \n",
       "1     1986                   37  \n",
       "2     1971                   52  \n",
       "3     1990                   33  \n",
       "4     1988                   35  \n",
       "...    ...                  ...  \n",
       "2889  1996                   27  \n",
       "2890  1994                   29  \n",
       "2891  1998                   25  \n",
       "2892  1998                   25  \n",
       "2893  1983                   40  \n",
       "\n",
       "[2894 rows x 11 columns]"
      ]
     },
     "execution_count": 3,
     "metadata": {},
     "output_type": "execute_result"
    }
   ],
   "source": [
    "import pandas as pd\n",
    "data=pd.read_excel('Scoring02.xlsx')\n",
    "data"
   ]
  },
  {
   "cell_type": "code",
   "execution_count": 4,
   "id": "23a0c2a7",
   "metadata": {},
   "outputs": [
    {
     "name": "stdout",
     "output_type": "stream",
     "text": [
      "<class 'pandas.core.frame.DataFrame'>\n",
      "RangeIndex: 2894 entries, 0 to 2893\n",
      "Data columns (total 11 columns):\n",
      " #   Column                                                              Non-Null Count  Dtype \n",
      "---  ------                                                              --------------  ----- \n",
      " 0   Пол                                                                 2894 non-null   object\n",
      " 1   Возраст                                                             2894 non-null   object\n",
      " 2   Семейное положение                                                  2894 non-null   object\n",
      " 3   Повторный клиент                                                    2894 non-null   object\n",
      " 4   Сумма выдачи номинал                                                2894 non-null   int64 \n",
      " 5   Срок                                                                2894 non-null   int64 \n",
      " 6   Образование                                                         2894 non-null   object\n",
      " 7   Тип бизнеса                                                         2894 non-null   object\n",
      " 8   Длительность самой долгой единовременной просрочки в течение цикла  2894 non-null   int64 \n",
      " 9   Год                                                                 2894 non-null   int64 \n",
      " 10  Возраст_полные года                                                 2894 non-null   int64 \n",
      "dtypes: int64(5), object(6)\n",
      "memory usage: 248.8+ KB\n"
     ]
    }
   ],
   "source": [
    "data.info()"
   ]
  },
  {
   "cell_type": "code",
   "execution_count": 5,
   "id": "3db5a176",
   "metadata": {},
   "outputs": [],
   "source": [
    "data=data.drop(['Возраст', 'Год'], axis=1)"
   ]
  },
  {
   "cell_type": "code",
   "execution_count": 6,
   "id": "7351f56c",
   "metadata": {},
   "outputs": [],
   "source": [
    "Пол = {'Муж':0,'Жен':1}\n",
    "data['Пол'] = data['Пол'].map(Пол)"
   ]
  },
  {
   "cell_type": "code",
   "execution_count": 7,
   "id": "044e4649",
   "metadata": {},
   "outputs": [
    {
     "data": {
      "text/plain": [
       "Married          1905\n",
       "Single            689\n",
       "Divorced          189\n",
       "Widow/Widower     111\n",
       "Name: Семейное положение, dtype: int64"
      ]
     },
     "execution_count": 7,
     "metadata": {},
     "output_type": "execute_result"
    }
   ],
   "source": [
    "data[('Семейное положение')].value_counts()"
   ]
  },
  {
   "cell_type": "code",
   "execution_count": 8,
   "id": "edb1a9bc",
   "metadata": {},
   "outputs": [
    {
     "data": {
      "text/plain": [
       "array(['Married', 'Widow/Widower', 'Single', 'Divorced'], dtype=object)"
      ]
     },
     "execution_count": 8,
     "metadata": {},
     "output_type": "execute_result"
    }
   ],
   "source": [
    "data['Семейное положение'].unique()"
   ]
  },
  {
   "cell_type": "code",
   "execution_count": 9,
   "id": "870bc306",
   "metadata": {},
   "outputs": [],
   "source": [
    "data.loc[data[\"Семейное положение\"]==\"Married\", \"Family_status\"]=2\n",
    "data.loc[data[\"Семейное положение\"]==\"Single\", \"Family_status\"]=1\n",
    "data.loc[data[\"Семейное положение\"]==\"Widow/Widower\", \"Family_status\"]=0\n",
    "data.loc[data[\"Семейное положение\"]==\"Divorced\", \"Family_status\"]=3\n"
   ]
  },
  {
   "cell_type": "code",
   "execution_count": 10,
   "id": "d5c3bf99",
   "metadata": {},
   "outputs": [],
   "source": [
    "data.loc[data[\"Повторный клиент\"]==\"Старый клиент\", \"Type of client\"]=0\n",
    "data.loc[data[\"Повторный клиент\"]==\"Новый клиент\", \"Type of client\"]=1\n"
   ]
  },
  {
   "cell_type": "code",
   "execution_count": 11,
   "id": "ff94976c",
   "metadata": {},
   "outputs": [
    {
     "data": {
      "text/plain": [
       "array(['Старый клиент', 'Новый клиент'], dtype=object)"
      ]
     },
     "execution_count": 11,
     "metadata": {},
     "output_type": "execute_result"
    }
   ],
   "source": [
    "data['Повторный клиент'].unique()"
   ]
  },
  {
   "cell_type": "code",
   "execution_count": 12,
   "id": "1db10f0a",
   "metadata": {},
   "outputs": [],
   "source": [
    "data=data.drop(['Повторный клиент'], axis=1)"
   ]
  },
  {
   "cell_type": "code",
   "execution_count": 13,
   "id": "2ffe68e5",
   "metadata": {},
   "outputs": [],
   "source": [
    "data.loc[data[\"Образование\"]==\"Высшее образование\", \"Education\"]=0\n",
    "data.loc[data[\"Образование\"]==\"Сред.спец.образ-ние\", \"Education\"]=1\n",
    "data.loc[data[\"Образование\"]==\"Среднее образование\", \"Education\"]=2\n",
    "data.loc[data[\"Образование\"]==\"Непол Сред.образ\", \"Education\"]=3\n",
    "data.loc[data[\"Образование\"]==\"Начал образование\", \"Education\"]=4\n",
    "data.loc[data[\"Образование\"]==\"Аспирантура\", \"Education\"]=5"
   ]
  },
  {
   "cell_type": "code",
   "execution_count": 14,
   "id": "30679d77",
   "metadata": {},
   "outputs": [],
   "source": [
    "data=data.drop(['Образование'], axis=1)"
   ]
  },
  {
   "cell_type": "code",
   "execution_count": 15,
   "id": "ea397507",
   "metadata": {},
   "outputs": [],
   "source": [
    "data.loc[data[\"Тип бизнеса\"]==\"1. Карзи истеъмоли/Потребительский кредит\", \"Tupe of business\"]=0\n",
    "data.loc[data[\"Тип бизнеса\"]==\"2. Истехсолот/Производство\", \"Tupe of business\"]=1\n",
    "data.loc[data[\"Тип бизнеса\"]==\"6. Хочагии кишлок / Сельское хозяйство\", \"Tupe of business\"]=2\n",
    "data.loc[data[\"Тип бизнеса\"]==\"3. Хизматрасони/Услуги\", \"Tupe of business\"]=3\n",
    "data.loc[data[\"Тип бизнеса\"]==\"4. Савдо / Торговля\", \"Tupe of business\"]=4\n"
   ]
  },
  {
   "cell_type": "code",
   "execution_count": 16,
   "id": "9ff5f641",
   "metadata": {},
   "outputs": [],
   "source": [
    "data=data.drop(['Тип бизнеса'], axis=1)"
   ]
  },
  {
   "cell_type": "code",
   "execution_count": 17,
   "id": "9fe1c8ca",
   "metadata": {},
   "outputs": [],
   "source": [
    "data.loc[data['Длительность самой долгой единовременной просрочки в течение цикла'] > 20, 'default_flg'] = 1\n",
    "data.loc[data['Длительность самой долгой единовременной просрочки в течение цикла'] <= 20, 'default_flg'] = 0"
   ]
  },
  {
   "cell_type": "code",
   "execution_count": 18,
   "id": "a2406d54",
   "metadata": {},
   "outputs": [],
   "source": [
    "data=data.drop(['Длительность самой долгой единовременной просрочки в течение цикла'], axis=1)"
   ]
  },
  {
   "cell_type": "code",
   "execution_count": 19,
   "id": "74c67773",
   "metadata": {},
   "outputs": [],
   "source": [
    "data=data.drop(['Семейное положение'], axis=1)"
   ]
  },
  {
   "cell_type": "code",
   "execution_count": 20,
   "id": "3eb23dae",
   "metadata": {},
   "outputs": [
    {
     "data": {
      "text/plain": [
       "<AxesSubplot:>"
      ]
     },
     "execution_count": 20,
     "metadata": {},
     "output_type": "execute_result"
    },
    {
     "data": {
      "image/png": "[encoded data removed]",
      "text/plain": [
       "<Figure size 432x288 with 2 Axes>"
      ]
     },
     "metadata": {
      "needs_background": "light"
     },
     "output_type": "display_data"
    }
   ],
   "source": [
    "import seaborn as sns\n",
    "from scipy.stats import norm \n",
    "sns.heatmap(data.corr(), annot=True)"
   ]
  },
  {
   "cell_type": "code",
   "execution_count": 21,
   "id": "4da5d77f",
   "metadata": {},
   "outputs": [],
   "source": [
    "data = data.rename(columns={'Сумма выдачи номинал': 'Сумма_выдачи_номинал'})\n",
    "data = data.rename(columns={'Возраст_полные года': 'Возраст_полные_года'})\n",
    "data = data.rename(columns={'Type of client': 'Type_of_client'})\n",
    "data = data.rename(columns={'Tupe of business': 'Tupe_of_business'})"
   ]
  },
  {
   "cell_type": "code",
   "execution_count": 22,
   "id": "dc6c63e1",
   "metadata": {},
   "outputs": [],
   "source": [
    "from sklearn.ensemble import RandomForestClassifier\n",
    "from sklearn.model_selection import train_test_split\n",
    "from sklearn import metrics"
   ]
  },
  {
   "cell_type": "code",
   "execution_count": 23,
   "id": "f3da6c70",
   "metadata": {},
   "outputs": [],
   "source": [
    "X = data.drop(['default_flg'] , axis=1)\n",
    "y = data['default_flg']"
   ]
  },
  {
   "cell_type": "code",
   "execution_count": 24,
   "id": "54b9542f",
   "metadata": {},
   "outputs": [],
   "source": [
    "X_train , X_test , y_train , y_test = train_test_split(X , y , test_size = 0.2 , random_state = 42)"
   ]
  },
  {
   "cell_type": "code",
   "execution_count": 26,
   "id": "91077563",
   "metadata": {},
   "outputs": [
    {
     "name": "stdout",
     "output_type": "stream",
     "text": [
      "0.8120950323974082\n",
      "0.7979274611398963\n"
     ]
    }
   ],
   "source": [
    "from sklearn.linear_model import LinearRegression, LogisticRegression\n",
    "logreg=LogisticRegression()\n",
    "logreg.fit(X_train, y_train)\n",
    "y_pred = logreg.predict(X_train)\n",
    "print(logreg.score(X_train, y_train))\n",
    "print(logreg.score(X_test, y_test))"
   ]
  },
  {
   "cell_type": "code",
   "execution_count": 27,
   "id": "d6a5e713",
   "metadata": {},
   "outputs": [],
   "source": [
    "rf = RandomForestClassifier(n_estimators=100 , min_samples_split = 10 , random_state=42 , min_samples_leaf = 4 , max_depth = 20)"
   ]
  },
  {
   "cell_type": "code",
   "execution_count": 28,
   "id": "0589f0d8",
   "metadata": {},
   "outputs": [
    {
     "data": {
      "text/plain": [
       "RandomForestClassifier(max_depth=20, min_samples_leaf=4, min_samples_split=10,\n",
       "                       random_state=42)"
      ]
     },
     "execution_count": 28,
     "metadata": {},
     "output_type": "execute_result"
    }
   ],
   "source": [
    "rf.fit(X_train , y_train)"
   ]
  },
  {
   "cell_type": "code",
   "execution_count": 29,
   "id": "c55ff039",
   "metadata": {},
   "outputs": [],
   "source": [
    "y=data['default_flg']\n",
    "X=data.drop(['default_flg'], axis=1)"
   ]
  },
  {
   "cell_type": "code",
   "execution_count": 30,
   "id": "7cfda4d6",
   "metadata": {},
   "outputs": [],
   "source": [
    "X_train, X_test, y_train, y_test=train_test_split(X,y, test_size=0.2)"
   ]
  },
  {
   "cell_type": "code",
   "execution_count": 31,
   "id": "be1ca669",
   "metadata": {},
   "outputs": [],
   "source": [
    "y_pred = rf.predict(X_test)"
   ]
  },
  {
   "cell_type": "code",
   "execution_count": 32,
   "id": "bd0e738a",
   "metadata": {},
   "outputs": [
    {
     "name": "stdout",
     "output_type": "stream",
     "text": [
      "Accuracy: 0.8324697754749568\n"
     ]
    }
   ],
   "source": [
    "from sklearn.metrics import accuracy_score\n",
    "\n",
    "accuracy = accuracy_score(y_test, y_pred)\n",
    "print(\"Accuracy:\", accuracy)"
   ]
  },
  {
   "cell_type": "code",
   "execution_count": 33,
   "id": "87655098",
   "metadata": {},
   "outputs": [],
   "source": [
    "import matplotlib.pyplot as plt"
   ]
  },
  {
   "cell_type": "code",
   "execution_count": 34,
   "id": "b140679f",
   "metadata": {},
   "outputs": [
    {
     "data": {
      "image/png": "[encoded data removed]",
      "text/plain": [
       "<Figure size 432x288 with 1 Axes>"
      ]
     },
     "metadata": {
      "needs_background": "light"
     },
     "output_type": "display_data"
    }
   ],
   "source": [
    "y_pred_proba = rf.predict_proba(X_test)[::,1]\n",
    "fpr, tpr, _ = metrics.roc_curve(y_test,  y_pred_proba)\n",
    "auc = metrics.roc_auc_score(y_test, y_pred_proba)\n",
    "plt.plot(fpr,tpr,label=\"AUC=\"+str(auc))\n",
    "plt.legend(loc=4)\n",
    "plt.show()"
   ]
  },
  {
   "cell_type": "code",
   "execution_count": 35,
   "id": "8d3a29fd",
   "metadata": {},
   "outputs": [
    {
     "data": {
      "text/plain": [
       "SVC(kernel='sigmoid')"
      ]
     },
     "execution_count": 35,
     "metadata": {},
     "output_type": "execute_result"
    }
   ],
   "source": [
    "from sklearn.svm import SVC\n",
    "svclassifier = SVC(kernel='sigmoid')\n",
    "svclassifier.fit(X_train, y_train)"
   ]
  },
  {
   "cell_type": "code",
   "execution_count": 36,
   "id": "4a2fc699",
   "metadata": {},
   "outputs": [],
   "source": [
    "y_pred = svclassifier.predict(X_test)"
   ]
  },
  {
   "cell_type": "code",
   "execution_count": 37,
   "id": "c925ab4c",
   "metadata": {},
   "outputs": [
    {
     "name": "stdout",
     "output_type": "stream",
     "text": [
      "Accuracy: 0.7271157167530224\n"
     ]
    }
   ],
   "source": [
    "acc = accuracy_score(y_test, y_pred)\n",
    "print(\"Accuracy:\", acc)"
   ]
  },
  {
   "cell_type": "code",
   "execution_count": 38,
   "id": "1e14362f",
   "metadata": {},
   "outputs": [
    {
     "data": {
      "text/plain": [
       "DecisionTreeClassifier(max_depth=1)"
      ]
     },
     "execution_count": 38,
     "metadata": {},
     "output_type": "execute_result"
    }
   ],
   "source": [
    "from sklearn.tree import DecisionTreeClassifier\n",
    "model_tree = DecisionTreeClassifier(max_depth=1)\n",
    "model_tree.fit(X_train, y_train)\n"
   ]
  },
  {
   "cell_type": "code",
   "execution_count": 39,
   "id": "137afce7",
   "metadata": {},
   "outputs": [],
   "source": [
    "y_predict = model_tree.predict(X_test)"
   ]
  },
  {
   "cell_type": "code",
   "execution_count": 40,
   "id": "8137dc25",
   "metadata": {},
   "outputs": [
    {
     "name": "stdout",
     "output_type": "stream",
     "text": [
      "0.7271157167530224\n"
     ]
    }
   ],
   "source": [
    "print (accuracy_score(y_test,y_pred))"
   ]
  },
  {
   "cell_type": "code",
   "execution_count": 45,
   "id": "7432b446",
   "metadata": {},
   "outputs": [],
   "source": [
    "from sklearn.neighbors import KNeighborsClassifier "
   ]
  },
  {
   "cell_type": "code",
   "execution_count": 49,
   "id": "94f6a440",
   "metadata": {},
   "outputs": [
    {
     "name": "stdout",
     "output_type": "stream",
     "text": [
      "0.5662292529150367\n"
     ]
    }
   ],
   "source": [
    "forest1 =  RandomForestClassifier(criterion='gini', n_estimators =250 , random_state = 200, n_jobs = 2)\n",
    "forest1.fit(X_train, y_train)\n",
    "y_predict = forest1.predict(X_test)  \n",
    "forest1auc = metrics.roc_auc_score(y_test,y_predict)\n",
    "print(forest1auc)"
   ]
  },
  {
   "cell_type": "code",
   "execution_count": 52,
   "id": "b8a0a908",
   "metadata": {},
   "outputs": [],
   "source": [
    "import pickle\n",
    "models = {\n",
    "    \"scoring_imon_ModelTree.pkl\": model_tree,\n",
    "    \"scoring_imon_Forest.pkl\": rf,\n",
    "    \"scoring_imon_Forest(par).pkl\": forest1,\n",
    "    \"scoring_imon_KNN.pkl\": knn,\n",
    "    \"scoring_imon_LogReg.pkl\": logreg,\n",
    "}\n",
    "\n",
    "for filename, model in models.items():\n",
    "    with open(filename, \"wb\") as pickle_out:\n",
    "        pickle.dump(model, pickle_out)"
   ]
  },
  {
   "cell_type": "code",
   "execution_count": null,
   "id": "797d8b87",
   "metadata": {},
   "outputs": [],
   "source": []
  }
 ],
 "metadata": {
  "kernelspec": {
   "display_name": "Python 3 (ipykernel)",
   "language": "python",
   "name": "python3"
  },
  "language_info": {
   "codemirror_mode": {
    "name": "ipython",
    "version": 3
   },
   "file_extension": ".py",
   "mimetype": "text/x-python",
   "name": "python",
   "nbconvert_exporter": "python",
   "pygments_lexer": "ipython3",
   "version": "3.9.7"
  }
 },
 "nbformat": 4,
 "nbformat_minor": 5
}
